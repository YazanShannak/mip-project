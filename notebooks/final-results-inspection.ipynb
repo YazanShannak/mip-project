{
 "cells": [
  {
   "cell_type": "code",
   "execution_count": 3,
   "metadata": {},
   "outputs": [],
   "source": [
    "import os\n",
    "import numpy as np\n",
    "import pandas as pd\n",
    "from matplotlib import pyplot as plt\n",
    "\n",
    "%matplotlib inline"
   ]
  },
  {
   "cell_type": "code",
   "execution_count": 4,
   "metadata": {},
   "outputs": [],
   "source": [
    "parameters = {\"train_loss\": dict(title=\"Train loss\", y= \"BCE+DICE Loss\"), \"val_loss\": dict(title=\"Validation loss\", y= \"BCE+DICE Loss\"), \"val_dice\": dict(title=\"Test Dice\", y= \"DICE Coefficient\"), \"val_iou\": dict(title=\"Test IoU\", y= \"IoU Coefficient\") }"
   ]
  },
  {
   "cell_type": "code",
   "execution_count": 5,
   "metadata": {},
   "outputs": [
    {
     "data": {
      "text/plain": [
       "['unet-encoder-only',\n",
       " 'unet-resnet',\n",
       " 'unet-double-autoencoder',\n",
       " 'unet-raw',\n",
       " 'unet-autoencoder-1-encoder-unfrozen',\n",
       " 'unet-autoencoder-1']"
      ]
     },
     "execution_count": 5,
     "metadata": {},
     "output_type": "execute_result"
    }
   ],
   "source": [
    "csv_logs_dir = os.path.join(os.curdir, \"..\", \"csv-logs\")\n",
    "trials_names = os.listdir(csv_logs_dir)\n",
    "trials_names"
   ]
  },
  {
   "cell_type": "code",
   "execution_count": 13,
   "metadata": {},
   "outputs": [],
   "source": [
    "results = {}\n",
    "\n",
    "for trial in trials_names:\n",
    "    val_loss = pd.read_csv(os.path.join(csv_logs_dir, trial, \"val_loss.csv\"))\n",
    "    val_iou = pd.read_csv(os.path.join(csv_logs_dir, trial, \"val_iou.csv\"))\n",
    "    val_dice = pd.read_csv(os.path.join(csv_logs_dir, trial, \"val_dice.csv\"))\n",
    "    \n",
    "    results[trial] = dict(loss=val_loss[\"Value\"].min(), iou=val_iou[\"Value\"].max(), dice=val_dice[\"Value\"].max())\n",
    "    \n",
    "        "
   ]
  },
  {
   "cell_type": "code",
   "execution_count": 14,
   "metadata": {},
   "outputs": [
    {
     "data": {
      "text/html": [
       "<div>\n",
       "<style scoped>\n",
       "    .dataframe tbody tr th:only-of-type {\n",
       "        vertical-align: middle;\n",
       "    }\n",
       "\n",
       "    .dataframe tbody tr th {\n",
       "        vertical-align: top;\n",
       "    }\n",
       "\n",
       "    .dataframe thead th {\n",
       "        text-align: right;\n",
       "    }\n",
       "</style>\n",
       "<table border=\"1\" class=\"dataframe\">\n",
       "  <thead>\n",
       "    <tr style=\"text-align: right;\">\n",
       "      <th></th>\n",
       "      <th>unet-encoder-only</th>\n",
       "      <th>unet-resnet</th>\n",
       "      <th>unet-double-autoencoder</th>\n",
       "      <th>unet-raw</th>\n",
       "      <th>unet-autoencoder-1-encoder-unfrozen</th>\n",
       "      <th>unet-autoencoder-1</th>\n",
       "    </tr>\n",
       "  </thead>\n",
       "  <tbody>\n",
       "    <tr>\n",
       "      <th>loss</th>\n",
       "      <td>0.500100</td>\n",
       "      <td>0.426411</td>\n",
       "      <td>0.502192</td>\n",
       "      <td>0.529720</td>\n",
       "      <td>0.553777</td>\n",
       "      <td>0.813913</td>\n",
       "    </tr>\n",
       "    <tr>\n",
       "      <th>iou</th>\n",
       "      <td>0.384987</td>\n",
       "      <td>0.443978</td>\n",
       "      <td>0.380208</td>\n",
       "      <td>0.355816</td>\n",
       "      <td>0.339247</td>\n",
       "      <td>0.130719</td>\n",
       "    </tr>\n",
       "    <tr>\n",
       "      <th>dice</th>\n",
       "      <td>0.530575</td>\n",
       "      <td>0.602831</td>\n",
       "      <td>0.530209</td>\n",
       "      <td>0.502653</td>\n",
       "      <td>0.480308</td>\n",
       "      <td>0.228391</td>\n",
       "    </tr>\n",
       "  </tbody>\n",
       "</table>\n",
       "</div>"
      ],
      "text/plain": [
       "      unet-encoder-only  unet-resnet  unet-double-autoencoder  unet-raw  \\\n",
       "loss           0.500100     0.426411                 0.502192  0.529720   \n",
       "iou            0.384987     0.443978                 0.380208  0.355816   \n",
       "dice           0.530575     0.602831                 0.530209  0.502653   \n",
       "\n",
       "      unet-autoencoder-1-encoder-unfrozen  unet-autoencoder-1  \n",
       "loss                             0.553777            0.813913  \n",
       "iou                              0.339247            0.130719  \n",
       "dice                             0.480308            0.228391  "
      ]
     },
     "execution_count": 14,
     "metadata": {},
     "output_type": "execute_result"
    }
   ],
   "source": [
    "pd.DataFrame(results)"
   ]
  },
  {
   "cell_type": "code",
   "execution_count": null,
   "metadata": {},
   "outputs": [],
   "source": []
  }
 ],
 "metadata": {
  "kernelspec": {
   "display_name": "Python 3",
   "language": "python",
   "name": "python3"
  },
  "language_info": {
   "codemirror_mode": {
    "name": "ipython",
    "version": 3
   },
   "file_extension": ".py",
   "mimetype": "text/x-python",
   "name": "python",
   "nbconvert_exporter": "python",
   "pygments_lexer": "ipython3",
   "version": "3.8.3"
  }
 },
 "nbformat": 4,
 "nbformat_minor": 4
}
