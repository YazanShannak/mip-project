{
 "cells": [
  {
   "cell_type": "code",
   "execution_count": 3,
   "metadata": {},
   "outputs": [],
   "source": [
    "import os\n",
    "import numpy as np\n",
    "import pandas as pd\n",
    "from matplotlib import pyplot as plt\n",
    "\n",
    "%matplotlib inline"
   ]
  },
  {
   "cell_type": "code",
   "execution_count": 4,
   "metadata": {},
   "outputs": [],
   "source": [
    "parameters = {\"train_loss\": dict(title=\"Train loss\", y= \"BCE+DICE Loss\"), \"val_loss\": dict(title=\"Validation loss\", y= \"BCE+DICE Loss\"), \"val_dice\": dict(title=\"Test Dice\", y= \"DICE Coefficient\"), \"val_iou\": dict(title=\"Test IoU\", y= \"IoU Coefficient\") }"
   ]
  },
  {
   "cell_type": "code",
   "execution_count": 5,
   "metadata": {},
   "outputs": [
    {
     "data": {
      "text/plain": [
       "['unet-encoder-only',\n",
       " 'unet-resnet',\n",
       " 'unet-double-autoencoder',\n",
       " 'unet-raw',\n",
       " 'unet-autoencoder-1-encoder-unfrozen',\n",
       " 'unet-autoencoder-1']"
      ]
     },
     "execution_count": 5,
     "metadata": {},
     "output_type": "execute_result"
    }
   ],
   "source": [
    "csv_logs_dir = os.path.join(os.curdir, \"..\", \"csv-logs\")\n",
    "trials_names = os.listdir(csv_logs_dir)\n",
    "trials_names"
   ]
  },
  {
   "cell_type": "code",
   "execution_count": 13,
   "metadata": {},
   "outputs": [],
   "source": [
    "results = {}\n",
    "\n",
    "for trial in trials_names:\n",
    "    val_loss = pd.read_csv(os.path.join(csv_logs_dir, trial, \"val_loss.csv\"))\n",
    "    val_iou = pd.read_csv(os.path.join(csv_logs_dir, trial, \"val_iou.csv\"))\n",
    "    val_dice = pd.read_csv(os.path.join(csv_logs_dir, trial, \"val_dice.csv\"))\n",
    "    \n",
    "    results[trial] = dict(loss=val_loss[\"Value\"].min(), iou=val_iou[\"Value\"].max(), dice=val_dice[\"Value\"].max())\n",
    "    \n",
    "        "
   ]
  },
  {
   "cell_type": "code",
   "execution_count": 23,
   "metadata": {},
   "outputs": [
    {
     "name": "stdout",
     "output_type": "stream",
     "text": [
      "\\begin{tabular}{lrr}\n",
      "\\toprule\n",
      "{} &  dice &   iou \\\\\n",
      "\\midrule\n",
      "unet-resnet                         &  0.60 &  0.44 \\\\\n",
      "unet-encoder-only                   &  0.53 &  0.38 \\\\\n",
      "unet-double-autoencoder             &  0.53 &  0.38 \\\\\n",
      "unet-raw                            &  0.50 &  0.36 \\\\\n",
      "unet-autoencoder-1-encoder-unfrozen &  0.48 &  0.34 \\\\\n",
      "unet-autoencoder-1                  &  0.23 &  0.13 \\\\\n",
      "\\bottomrule\n",
      "\\end{tabular}\n",
      "\n"
     ]
    }
   ],
   "source": [
    "print(pd.DataFrame(results).transpose().sort_values([\"dice\", \"iou\"], ascending=False)[[\"dice\", \"iou\"]].round(2).to_latex())"
   ]
  },
  {
   "cell_type": "code",
   "execution_count": null,
   "metadata": {},
   "outputs": [],
   "source": []
  }
 ],
 "metadata": {
  "kernelspec": {
   "display_name": "Python 3",
   "language": "python",
   "name": "python3"
  },
  "language_info": {
   "codemirror_mode": {
    "name": "ipython",
    "version": 3
   },
   "file_extension": ".py",
   "mimetype": "text/x-python",
   "name": "python",
   "nbconvert_exporter": "python",
   "pygments_lexer": "ipython3",
   "version": "3.8.3"
  }
 },
 "nbformat": 4,
 "nbformat_minor": 4
}
